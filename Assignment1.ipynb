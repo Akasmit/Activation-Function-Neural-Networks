{
  "nbformat": 4,
  "nbformat_minor": 0,
  "metadata": {
    "colab": {
      "provenance": [],
      "authorship_tag": "ABX9TyN/W1vFwUqYNQeqRucswDj2",
      "include_colab_link": true
    },
    "kernelspec": {
      "name": "python3",
      "display_name": "Python 3"
    },
    "language_info": {
      "name": "python"
    }
  },
  "cells": [
    {
      "cell_type": "markdown",
      "metadata": {
        "id": "view-in-github",
        "colab_type": "text"
      },
      "source": [
        "<a href=\"https://colab.research.google.com/github/Akasmit/Activation-Function-Neural-Networks/blob/main/Assignment1.ipynb\" target=\"_parent\"><img src=\"https://colab.research.google.com/assets/colab-badge.svg\" alt=\"Open In Colab\"/></a>"
      ]
    },
    {
      "cell_type": "code",
      "execution_count": 15,
      "metadata": {
        "id": "Fg1LGvwu0efd"
      },
      "outputs": [],
      "source": [
        "import pandas as pd\n",
        "import numpy as np\n",
        "import matplotlib.pyplot as plt\n"
      ]
    },
    {
      "cell_type": "markdown",
      "source": [
        "Three non-linear Activation Functions functions\n",
        "\n",
        "1.   ReLu Function\n",
        "2.   Sigmoid function\n",
        "3.   Tanh function\n",
        "\n"
      ],
      "metadata": {
        "id": "no1XJSmfD9HR"
      }
    },
    {
      "cell_type": "code",
      "source": [
        " # ReLu functoin 1\n",
        "\n",
        " def ReLu(ar):\n",
        "  x = []\n",
        "  for i in ar:\n",
        "      if i<0:\n",
        "       x.append(0)\n",
        "      else:\n",
        "        x.append(i)\n",
        "  return x\n",
        "print(ReLu(-1))  "
      ],
      "metadata": {
        "id": "r3JIy82lAI4_"
      },
      "execution_count": 70,
      "outputs": []
    },
    {
      "cell_type": "code",
      "source": [
        "# ReLu functoin 2\n",
        "\n",
        "def ReLu(ar):\n",
        "  x = []\n",
        "  for i in ar:\n",
        "    x.append(max(0.0,i))\n",
        "  return x\n",
        "print(ReLu([0,4,6]))"
      ],
      "metadata": {
        "colab": {
          "base_uri": "https://localhost:8080/"
        },
        "id": "OBbTLLQA0izm",
        "outputId": "144bd81f-c4a5-468e-b7ef-1b647c0ca036"
      },
      "execution_count": 77,
      "outputs": [
        {
          "output_type": "stream",
          "name": "stdout",
          "text": [
            "[0.0, 4, 6]\n"
          ]
        }
      ]
    },
    {
      "cell_type": "code",
      "source": [
        "x = np.linspace(-10, 10)\n",
        "y = ReLu(x)\n",
        "#print(y)\n",
        "plt.plot(x, y)\n",
        "plt.axis('tight')\n",
        "plt.title('ReLu ACt Fun')\n",
        "plt.grid()"
      ],
      "metadata": {
        "colab": {
          "base_uri": "https://localhost:8080/",
          "height": 281
        },
        "id": "4yq00XHa3ag0",
        "outputId": "6eae145b-4061-49b3-d0da-621fa1efd9ad"
      },
      "execution_count": 72,
      "outputs": [
        {
          "output_type": "display_data",
          "data": {
            "text/plain": [
              "<Figure size 432x288 with 1 Axes>"
            ],
            "image/png": "[encoded data removed]"
          },
          "metadata": {
            "needs_background": "light"
          }
        }
      ]
    },
    {
      "cell_type": "code",
      "source": [
        "# Sigmoid function\n",
        "\n",
        "def sigmoid(num):\n",
        " return 1/(1 + np.exp(-num))\n",
        "num = 0\n",
        "print(sigmoid(num))"
      ],
      "metadata": {
        "colab": {
          "base_uri": "https://localhost:8080/"
        },
        "id": "nBGJ5BFW1EvY",
        "outputId": "5fc63b61-b3f7-41be-ae0f-7c038c68e813"
      },
      "execution_count": 45,
      "outputs": [
        {
          "output_type": "stream",
          "name": "stdout",
          "text": [
            "0.5\n"
          ]
        }
      ]
    },
    {
      "cell_type": "code",
      "source": [
        "ar = np.linspace(-10, 10)\n",
        "plt.plot(ar, sigmoid(ar))\n",
        "#plt.axis('tight')\n",
        "plt.title('Sigmoid ACt Fun')\n",
        "plt.grid()"
      ],
      "metadata": {
        "colab": {
          "base_uri": "https://localhost:8080/",
          "height": 281
        },
        "id": "dDUOZAEy67cg",
        "outputId": "dfde21b8-e17b-4a7d-bce2-a7c8b6d11990"
      },
      "execution_count": 51,
      "outputs": [
        {
          "output_type": "display_data",
          "data": {
            "text/plain": [
              "<Figure size 432x288 with 1 Axes>"
            ],
            "image/png": "[encoded data removed]"
          },
          "metadata": {
            "needs_background": "light"
          }
        }
      ]
    },
    {
      "cell_type": "code",
      "source": [
        "# Binary Step function\n",
        "\n",
        "def binary_step(x):\n",
        "  x1 = []\n",
        "  for i in x:\n",
        "     if i<0:\n",
        "        x1.append(0)\n",
        "     else:\n",
        "        x1.append(1)\n",
        "  return x1\n",
        "    \n",
        "#binary_step(5), binary_step(-2)"
      ],
      "metadata": {
        "id": "4DmJGu2D1uS6"
      },
      "execution_count": 102,
      "outputs": []
    },
    {
      "cell_type": "code",
      "source": [
        "x = np.linspace(-10,10)\n",
        "y = binary_step(x)\n",
        "plt.plot(x,y)\n",
        "plt.title('Binar Step Act Fun')\n",
        "plt.show()"
      ],
      "metadata": {
        "colab": {
          "base_uri": "https://localhost:8080/",
          "height": 281
        },
        "id": "ku7dKYFq8uC8",
        "outputId": "e2c43595-9362-4bb1-a120-ed30d182fa0f"
      },
      "execution_count": 103,
      "outputs": [
        {
          "output_type": "display_data",
          "data": {
            "text/plain": [
              "<Figure size 432x288 with 1 Axes>"
            ],
            "image/png": "[encoded data removed]"
          },
          "metadata": {
            "needs_background": "light"
          }
        }
      ]
    },
    {
      "cell_type": "code",
      "source": [
        "# tanh function\n",
        "\n",
        "def tanh(x):\n",
        "  return np.tanh(x)"
      ],
      "metadata": {
        "id": "P-cr6YlS10aA"
      },
      "execution_count": 9,
      "outputs": []
    },
    {
      "cell_type": "code",
      "source": [
        "x = np.linspace(-10, 10)\n",
        "plt.plot(x, tanh(x))\n",
        "plt.axis('tight')\n",
        "plt.title('tan ACt Fun')\n",
        "plt.show()"
      ],
      "metadata": {
        "colab": {
          "base_uri": "https://localhost:8080/",
          "height": 281
        },
        "id": "QQsvIgX62b-T",
        "outputId": "3e4b3013-e80a-4db6-db0c-4a6e276d5fbc"
      },
      "execution_count": 16,
      "outputs": [
        {
          "output_type": "display_data",
          "data": {
            "text/plain": [
              "<Figure size 432x288 with 1 Axes>"
            ],
            "image/png": "[encoded data removed]"
          },
          "metadata": {
            "needs_background": "light"
          }
        }
      ]
    },
    {
      "cell_type": "code",
      "source": [],
      "metadata": {
        "id": "6MWVurDJ2-Hq"
      },
      "execution_count": null,
      "outputs": []
    }
  ]
}